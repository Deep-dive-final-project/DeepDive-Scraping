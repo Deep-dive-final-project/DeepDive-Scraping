{
 "cells": [
  {
   "cell_type": "code",
   "execution_count": 1,
   "id": "initial_id",
   "metadata": {
    "collapsed": true,
    "ExecuteTime": {
     "end_time": "2024-09-06T17:00:14.167158Z",
     "start_time": "2024-09-06T17:00:13.867885Z"
    }
   },
   "outputs": [],
   "source": [
    "import pandas as pd"
   ]
  },
  {
   "cell_type": "code",
   "outputs": [],
   "source": [
    "data = pd.read_json('/Users/koo/PycharmProjects/DeepDive-Scraping/inflearn/data/inflearn_lecture_sections.json')"
   ],
   "metadata": {
    "collapsed": false,
    "ExecuteTime": {
     "end_time": "2024-09-06T17:03:37.989198Z",
     "start_time": "2024-09-06T17:03:37.920679Z"
    }
   },
   "id": "4a1ef6ecce9eee19",
   "execution_count": 5
  },
  {
   "cell_type": "code",
   "outputs": [],
   "source": [
    "data.to_csv('/Users/koo/PycharmProjects/DeepDive-Scraping/inflearn/data/inflearn_lecture_sections.csv', index=False, encoding='utf-8')"
   ],
   "metadata": {
    "collapsed": false,
    "ExecuteTime": {
     "end_time": "2024-09-06T17:04:02.376316Z",
     "start_time": "2024-09-06T17:04:02.317469Z"
    }
   },
   "id": "272e39dc4f9eb6cd",
   "execution_count": 6
  },
  {
   "cell_type": "code",
   "outputs": [],
   "source": [],
   "metadata": {
    "collapsed": false
   },
   "id": "caa98dbe8e0c949d"
  }
 ],
 "metadata": {
  "kernelspec": {
   "display_name": "Python 3",
   "language": "python",
   "name": "python3"
  },
  "language_info": {
   "codemirror_mode": {
    "name": "ipython",
    "version": 2
   },
   "file_extension": ".py",
   "mimetype": "text/x-python",
   "name": "python",
   "nbconvert_exporter": "python",
   "pygments_lexer": "ipython2",
   "version": "2.7.6"
  }
 },
 "nbformat": 4,
 "nbformat_minor": 5
}
