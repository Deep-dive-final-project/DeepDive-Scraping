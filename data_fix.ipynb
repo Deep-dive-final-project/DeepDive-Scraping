{
 "cells": [
  {
   "cell_type": "code",
   "execution_count": 1,
   "id": "initial_id",
   "metadata": {
    "collapsed": true,
    "ExecuteTime": {
     "end_time": "2024-08-30T18:26:05.012192Z",
     "start_time": "2024-08-30T18:26:04.755331Z"
    }
   },
   "outputs": [],
   "source": [
    "import pandas as pd"
   ]
  },
  {
   "cell_type": "code",
   "outputs": [
    {
     "data": {
      "text/plain": "   id                                              title  \\\n0   1  [AI 실무] AI Research Engineer를 위한 논문 구현 시작하기 wi...   \n\n                                           image_url instructor  price  \\\n0  https://cdn.inflearn.com/public/courses/334289...      화이트박스  38500   \n\n   rating                                        lecture_url  \\\n0     5.0  https://www.inflearn.com/course/ai-%EB%85%BC%E...   \n\n                                               goals  \\\n0  Python과 PyTorch로 실제 논문을 읽어보며 구현 해보기|Neural Sty...   \n\n                                              target  \\\n0  AI 커리어에 관심 있는 모든 분들|AI 대학원을 준비 중이신 분들|논문을 읽고 이...   \n\n                                          pre_coures  platform pre_course  \n0  Python, PyTorch를 활용한 기본 구현 능력|딥러닝 / CNN 에 대한 기...  inflearn        NaN  ",
      "text/html": "<div>\n<style scoped>\n    .dataframe tbody tr th:only-of-type {\n        vertical-align: middle;\n    }\n\n    .dataframe tbody tr th {\n        vertical-align: top;\n    }\n\n    .dataframe thead th {\n        text-align: right;\n    }\n</style>\n<table border=\"1\" class=\"dataframe\">\n  <thead>\n    <tr style=\"text-align: right;\">\n      <th></th>\n      <th>id</th>\n      <th>title</th>\n      <th>image_url</th>\n      <th>instructor</th>\n      <th>price</th>\n      <th>rating</th>\n      <th>lecture_url</th>\n      <th>goals</th>\n      <th>target</th>\n      <th>pre_coures</th>\n      <th>platform</th>\n      <th>pre_course</th>\n    </tr>\n  </thead>\n  <tbody>\n    <tr>\n      <th>0</th>\n      <td>1</td>\n      <td>[AI 실무] AI Research Engineer를 위한 논문 구현 시작하기 wi...</td>\n      <td>https://cdn.inflearn.com/public/courses/334289...</td>\n      <td>화이트박스</td>\n      <td>38500</td>\n      <td>5.0</td>\n      <td>https://www.inflearn.com/course/ai-%EB%85%BC%E...</td>\n      <td>Python과 PyTorch로 실제 논문을 읽어보며 구현 해보기|Neural Sty...</td>\n      <td>AI 커리어에 관심 있는 모든 분들|AI 대학원을 준비 중이신 분들|논문을 읽고 이...</td>\n      <td>Python, PyTorch를 활용한 기본 구현 능력|딥러닝 / CNN 에 대한 기...</td>\n      <td>inflearn</td>\n      <td>NaN</td>\n    </tr>\n  </tbody>\n</table>\n</div>"
     },
     "execution_count": 2,
     "metadata": {},
     "output_type": "execute_result"
    }
   ],
   "source": [
    "data = pd.read_json('./data/integrated.json')\n",
    "data.head(1)"
   ],
   "metadata": {
    "collapsed": false,
    "ExecuteTime": {
     "end_time": "2024-08-30T18:26:26.759990Z",
     "start_time": "2024-08-30T18:26:26.682200Z"
    }
   },
   "id": "73480523a8768ae6",
   "execution_count": 2
  },
  {
   "cell_type": "code",
   "outputs": [
    {
     "data": {
      "text/plain": "        id            title                     image_url instructor  price  \\\n4032  4033  한 눈에 끝내는 C언어 기초  ./data/images/course_493.png         구름      0   \n\n      rating                                       lecture_url  \\\n4032     4.9  https://edu.goorm.io/lecture/201/한-눈에-끝내는-c언어-기초   \n\n                   goals                                             target  \\\n4032  프로그래밍 - 프로그래밍 기초|C  C언어를 통해 프로그래밍에 입문하고 싶은 분|C언어를 경험해본 적 있지만, 기본기를...   \n\n     pre_coures platform pre_course  \n4032        NaN    goorm             ",
      "text/html": "<div>\n<style scoped>\n    .dataframe tbody tr th:only-of-type {\n        vertical-align: middle;\n    }\n\n    .dataframe tbody tr th {\n        vertical-align: top;\n    }\n\n    .dataframe thead th {\n        text-align: right;\n    }\n</style>\n<table border=\"1\" class=\"dataframe\">\n  <thead>\n    <tr style=\"text-align: right;\">\n      <th></th>\n      <th>id</th>\n      <th>title</th>\n      <th>image_url</th>\n      <th>instructor</th>\n      <th>price</th>\n      <th>rating</th>\n      <th>lecture_url</th>\n      <th>goals</th>\n      <th>target</th>\n      <th>pre_coures</th>\n      <th>platform</th>\n      <th>pre_course</th>\n    </tr>\n  </thead>\n  <tbody>\n    <tr>\n      <th>4032</th>\n      <td>4033</td>\n      <td>한 눈에 끝내는 C언어 기초</td>\n      <td>./data/images/course_493.png</td>\n      <td>구름</td>\n      <td>0</td>\n      <td>4.9</td>\n      <td>https://edu.goorm.io/lecture/201/한-눈에-끝내는-c언어-기초</td>\n      <td>프로그래밍 - 프로그래밍 기초|C</td>\n      <td>C언어를 통해 프로그래밍에 입문하고 싶은 분|C언어를 경험해본 적 있지만, 기본기를...</td>\n      <td>NaN</td>\n      <td>goorm</td>\n      <td></td>\n    </tr>\n  </tbody>\n</table>\n</div>"
     },
     "execution_count": 3,
     "metadata": {},
     "output_type": "execute_result"
    }
   ],
   "source": [
    "data.tail(1)"
   ],
   "metadata": {
    "collapsed": false,
    "ExecuteTime": {
     "end_time": "2024-08-30T18:26:50.695836Z",
     "start_time": "2024-08-30T18:26:50.690579Z"
    }
   },
   "id": "b4f691f915e5cb30",
   "execution_count": 3
  },
  {
   "cell_type": "code",
   "outputs": [],
   "source": [
    "data['pre_course'] = data['pre_coures']"
   ],
   "metadata": {
    "collapsed": false,
    "ExecuteTime": {
     "end_time": "2024-08-30T18:27:07.676648Z",
     "start_time": "2024-08-30T18:27:07.673903Z"
    }
   },
   "id": "e75730602dd5e08e",
   "execution_count": 4
  },
  {
   "cell_type": "code",
   "outputs": [
    {
     "data": {
      "text/plain": "   id                                              title  \\\n0   1  [AI 실무] AI Research Engineer를 위한 논문 구현 시작하기 wi...   \n\n                                           image_url instructor  price  \\\n0  https://cdn.inflearn.com/public/courses/334289...      화이트박스  38500   \n\n   rating                                        lecture_url  \\\n0     5.0  https://www.inflearn.com/course/ai-%EB%85%BC%E...   \n\n                                               goals  \\\n0  Python과 PyTorch로 실제 논문을 읽어보며 구현 해보기|Neural Sty...   \n\n                                              target  \\\n0  AI 커리어에 관심 있는 모든 분들|AI 대학원을 준비 중이신 분들|논문을 읽고 이...   \n\n                                          pre_coures  platform  \\\n0  Python, PyTorch를 활용한 기본 구현 능력|딥러닝 / CNN 에 대한 기...  inflearn   \n\n                                          pre_course  \n0  Python, PyTorch를 활용한 기본 구현 능력|딥러닝 / CNN 에 대한 기...  ",
      "text/html": "<div>\n<style scoped>\n    .dataframe tbody tr th:only-of-type {\n        vertical-align: middle;\n    }\n\n    .dataframe tbody tr th {\n        vertical-align: top;\n    }\n\n    .dataframe thead th {\n        text-align: right;\n    }\n</style>\n<table border=\"1\" class=\"dataframe\">\n  <thead>\n    <tr style=\"text-align: right;\">\n      <th></th>\n      <th>id</th>\n      <th>title</th>\n      <th>image_url</th>\n      <th>instructor</th>\n      <th>price</th>\n      <th>rating</th>\n      <th>lecture_url</th>\n      <th>goals</th>\n      <th>target</th>\n      <th>pre_coures</th>\n      <th>platform</th>\n      <th>pre_course</th>\n    </tr>\n  </thead>\n  <tbody>\n    <tr>\n      <th>0</th>\n      <td>1</td>\n      <td>[AI 실무] AI Research Engineer를 위한 논문 구현 시작하기 wi...</td>\n      <td>https://cdn.inflearn.com/public/courses/334289...</td>\n      <td>화이트박스</td>\n      <td>38500</td>\n      <td>5.0</td>\n      <td>https://www.inflearn.com/course/ai-%EB%85%BC%E...</td>\n      <td>Python과 PyTorch로 실제 논문을 읽어보며 구현 해보기|Neural Sty...</td>\n      <td>AI 커리어에 관심 있는 모든 분들|AI 대학원을 준비 중이신 분들|논문을 읽고 이...</td>\n      <td>Python, PyTorch를 활용한 기본 구현 능력|딥러닝 / CNN 에 대한 기...</td>\n      <td>inflearn</td>\n      <td>Python, PyTorch를 활용한 기본 구현 능력|딥러닝 / CNN 에 대한 기...</td>\n    </tr>\n  </tbody>\n</table>\n</div>"
     },
     "execution_count": 5,
     "metadata": {},
     "output_type": "execute_result"
    }
   ],
   "source": [
    "data.head(1)"
   ],
   "metadata": {
    "collapsed": false,
    "ExecuteTime": {
     "end_time": "2024-08-30T18:27:10.866895Z",
     "start_time": "2024-08-30T18:27:10.862328Z"
    }
   },
   "id": "cc07c74a3b23cd65",
   "execution_count": 5
  },
  {
   "cell_type": "code",
   "outputs": [],
   "source": [
    "ndf = data.drop('pre_coures', axis=1)"
   ],
   "metadata": {
    "collapsed": false,
    "ExecuteTime": {
     "end_time": "2024-08-30T18:27:48.246159Z",
     "start_time": "2024-08-30T18:27:48.241186Z"
    }
   },
   "id": "6ae66f399491c044",
   "execution_count": 6
  },
  {
   "cell_type": "code",
   "outputs": [
    {
     "data": {
      "text/plain": "id               0\ntitle            0\nimage_url        0\ninstructor       0\nprice            0\nrating           0\nlecture_url      0\ngoals            0\ntarget           0\nplatform         0\npre_course     493\ndtype: int64"
     },
     "execution_count": 10,
     "metadata": {},
     "output_type": "execute_result"
    }
   ],
   "source": [
    "ndf.isna().sum()"
   ],
   "metadata": {
    "collapsed": false,
    "ExecuteTime": {
     "end_time": "2024-08-30T18:28:51.358314Z",
     "start_time": "2024-08-30T18:28:51.356135Z"
    }
   },
   "id": "6eda0500b1a49330",
   "execution_count": 10
  },
  {
   "cell_type": "code",
   "outputs": [
    {
     "data": {
      "text/plain": "        id                                              title  \\\n0        1  [AI 실무] AI Research Engineer를 위한 논문 구현 시작하기 wi...   \n1        2                          한 입 크기로 잘라먹는 Next.js(15+)   \n2        3                     빅데이터분석기사 필기 올인원: 3주에 끝내는 완벽 대비   \n3        4                 PM,게임기획서 시스템기획 데이터테이블 PO 13주제 122개   \n4        5            비전공자도 이해할 수 있는 Redis 입문/실전 (조회 성능 최적화편)   \n...    ...                                                ...   \n4028  4029                             제1회 구름코드챌린지(GCC) 기출 문제   \n4029  4030                          [바로실습] 생활코딩 - 파이썬(Python)   \n4030  4031                                   한 눈에 끝내는 아두이노 기초   \n4031  4032                            10주 완성 알고리즘 코딩테스트 [기초편]   \n4032  4033                                    한 눈에 끝내는 C언어 기초   \n\n                                              image_url      instructor  \\\n0     https://cdn.inflearn.com/public/courses/334289...           화이트박스   \n1     https://cdn.inflearn.com/public/courses/333250...  이정환 Winterlood   \n2     https://cdn.inflearn.com/public/courses/334598...           마소캠퍼스   \n3     https://cdn.inflearn.com/public/courses/334696...           써니라이더   \n4     https://cdn.inflearn.com/public/courses/334605...      JSCODE 박재성   \n...                                                 ...             ...   \n4028                       ./data/images/course_489.png              구름   \n4029                       ./data/images/course_490.png            생활코딩   \n4030                       ./data/images/course_491.png              구름   \n4031                       ./data/images/course_492.png           코딩몬스터   \n4032                       ./data/images/course_493.png              구름   \n\n       price  rating                                        lecture_url  \\\n0      38500     5.0  https://www.inflearn.com/course/ai-%EB%85%BC%E...   \n1      33880     5.0  https://www.inflearn.com/course/%ED%95%9C%EC%9...   \n2     111650     0.0  https://www.inflearn.com/course/%EB%B9%85%EB%8...   \n3      76230     0.0  https://www.inflearn.com/course/%EA%B2%8C%EC%9...   \n4      53900     4.9  https://www.inflearn.com/course/%EB%B9%84%EC%A...   \n...      ...     ...                                                ...   \n4028       0     2.3  https://edu.goorm.io/lecture/790/제1회-구름코드챌린지-g...   \n4029       0     4.9  https://edu.goorm.io/lecture/44/바로실습-생활코딩-파이썬-...   \n4030       0     4.5  https://edu.goorm.io/lecture/203/한-눈에-끝내는-아두이노-기초   \n4031   90000     4.7  https://edu.goorm.io/lecture/554/10주-완성-알고리즘-코...   \n4032       0     4.9   https://edu.goorm.io/lecture/201/한-눈에-끝내는-c언어-기초   \n\n                                                  goals  \\\n0     Python과 PyTorch로 실제 논문을 읽어보며 구현 해보기|Neural Sty...   \n1     최신 Next.js(v15 이상) 개념에 대해 살펴봅니다.|Page Router부터...   \n2     빅데이터 이해와 분석 계획 수립 방법|필수 이론 및 요점 정리를 통한 완벽한 자격 ...   \n3                                 게임기획|서비스기획|pm|po|사업pm   \n4     스스로 프로젝트에 적용시킬 수 있는 조회 성능 최적화 방법|실무에서 자주 쓰는 Re...   \n...                                                 ...   \n4028  - 구름 코드 챌린지 문제를 다시 풀어보고 싶은 분- 코딩 대회 문제를 살펴보고 싶은 분   \n4029                               프로그래밍 - 프로그래밍 기초|파이썬   \n4030                                   프로그래밍 - IoT|아두이노   \n4031           프로그래밍 - 알고리즘|수학|알고리즘|자바|자바스크립트|파이썬|C|C++   \n4032                                 프로그래밍 - 프로그래밍 기초|C   \n\n                                                 target  platform  \\\n0     AI 커리어에 관심 있는 모든 분들|AI 대학원을 준비 중이신 분들|논문을 읽고 이...  inflearn   \n1     한입 시리즈의 수강생 여러분|Next.js를 처음 시작하는 입문자 분들|최신 Nex...  inflearn   \n2     단기간에 빅데이터 분석 기사 자격증 취득을 목표로 하는 분|빅데이터 분석 분야에 자...  inflearn   \n3                               서비스기획자|게임기획자|사업pm|pm|po  inflearn   \n4     IT 서비스 기업으로 취업을 희망하는 백엔드 개발자|차별성 있는 스펙을 만들고 싶은...  inflearn   \n...                                                 ...       ...   \n4028                                                        goorm   \n4029  파이썬을 처음 시작하는 초보자/입문자|파이썬 프로그래밍이 동작하는 일반적인 원리를 ...     goorm   \n4030  피지컬 컴퓨팅을 한 번도 해보지 않은 입문자|아두이노를 통해 피지컬 컴퓨팅에 입문하...     goorm   \n4031  알고리즘 코딩테스트를 준비하시는 분|문법은 공부했지만 구현과 로직 설계가 어려운 분...     goorm   \n4032  C언어를 통해 프로그래밍에 입문하고 싶은 분|C언어를 경험해본 적 있지만, 기본기를...     goorm   \n\n                                             pre_course  \n0     Python, PyTorch를 활용한 기본 구현 능력|딥러닝 / CNN 에 대한 기...  \n1                         React.js (기초)|TypeScript (기초)  \n2     데이터 분석에 대한 사전 지식은 필요 없습니다. 통계 지식이 있으면 도움이 되나, ...  \n3                                                        \n4                                                        \n...                                                 ...  \n4028                                                NaN  \n4029                                                NaN  \n4030                                                NaN  \n4031                                                NaN  \n4032                                                NaN  \n\n[4033 rows x 11 columns]",
      "text/html": "<div>\n<style scoped>\n    .dataframe tbody tr th:only-of-type {\n        vertical-align: middle;\n    }\n\n    .dataframe tbody tr th {\n        vertical-align: top;\n    }\n\n    .dataframe thead th {\n        text-align: right;\n    }\n</style>\n<table border=\"1\" class=\"dataframe\">\n  <thead>\n    <tr style=\"text-align: right;\">\n      <th></th>\n      <th>id</th>\n      <th>title</th>\n      <th>image_url</th>\n      <th>instructor</th>\n      <th>price</th>\n      <th>rating</th>\n      <th>lecture_url</th>\n      <th>goals</th>\n      <th>target</th>\n      <th>platform</th>\n      <th>pre_course</th>\n    </tr>\n  </thead>\n  <tbody>\n    <tr>\n      <th>0</th>\n      <td>1</td>\n      <td>[AI 실무] AI Research Engineer를 위한 논문 구현 시작하기 wi...</td>\n      <td>https://cdn.inflearn.com/public/courses/334289...</td>\n      <td>화이트박스</td>\n      <td>38500</td>\n      <td>5.0</td>\n      <td>https://www.inflearn.com/course/ai-%EB%85%BC%E...</td>\n      <td>Python과 PyTorch로 실제 논문을 읽어보며 구현 해보기|Neural Sty...</td>\n      <td>AI 커리어에 관심 있는 모든 분들|AI 대학원을 준비 중이신 분들|논문을 읽고 이...</td>\n      <td>inflearn</td>\n      <td>Python, PyTorch를 활용한 기본 구현 능력|딥러닝 / CNN 에 대한 기...</td>\n    </tr>\n    <tr>\n      <th>1</th>\n      <td>2</td>\n      <td>한 입 크기로 잘라먹는 Next.js(15+)</td>\n      <td>https://cdn.inflearn.com/public/courses/333250...</td>\n      <td>이정환 Winterlood</td>\n      <td>33880</td>\n      <td>5.0</td>\n      <td>https://www.inflearn.com/course/%ED%95%9C%EC%9...</td>\n      <td>최신 Next.js(v15 이상) 개념에 대해 살펴봅니다.|Page Router부터...</td>\n      <td>한입 시리즈의 수강생 여러분|Next.js를 처음 시작하는 입문자 분들|최신 Nex...</td>\n      <td>inflearn</td>\n      <td>React.js (기초)|TypeScript (기초)</td>\n    </tr>\n    <tr>\n      <th>2</th>\n      <td>3</td>\n      <td>빅데이터분석기사 필기 올인원: 3주에 끝내는 완벽 대비</td>\n      <td>https://cdn.inflearn.com/public/courses/334598...</td>\n      <td>마소캠퍼스</td>\n      <td>111650</td>\n      <td>0.0</td>\n      <td>https://www.inflearn.com/course/%EB%B9%85%EB%8...</td>\n      <td>빅데이터 이해와 분석 계획 수립 방법|필수 이론 및 요점 정리를 통한 완벽한 자격 ...</td>\n      <td>단기간에 빅데이터 분석 기사 자격증 취득을 목표로 하는 분|빅데이터 분석 분야에 자...</td>\n      <td>inflearn</td>\n      <td>데이터 분석에 대한 사전 지식은 필요 없습니다. 통계 지식이 있으면 도움이 되나, ...</td>\n    </tr>\n    <tr>\n      <th>3</th>\n      <td>4</td>\n      <td>PM,게임기획서 시스템기획 데이터테이블 PO 13주제 122개</td>\n      <td>https://cdn.inflearn.com/public/courses/334696...</td>\n      <td>써니라이더</td>\n      <td>76230</td>\n      <td>0.0</td>\n      <td>https://www.inflearn.com/course/%EA%B2%8C%EC%9...</td>\n      <td>게임기획|서비스기획|pm|po|사업pm</td>\n      <td>서비스기획자|게임기획자|사업pm|pm|po</td>\n      <td>inflearn</td>\n      <td></td>\n    </tr>\n    <tr>\n      <th>4</th>\n      <td>5</td>\n      <td>비전공자도 이해할 수 있는 Redis 입문/실전 (조회 성능 최적화편)</td>\n      <td>https://cdn.inflearn.com/public/courses/334605...</td>\n      <td>JSCODE 박재성</td>\n      <td>53900</td>\n      <td>4.9</td>\n      <td>https://www.inflearn.com/course/%EB%B9%84%EC%A...</td>\n      <td>스스로 프로젝트에 적용시킬 수 있는 조회 성능 최적화 방법|실무에서 자주 쓰는 Re...</td>\n      <td>IT 서비스 기업으로 취업을 희망하는 백엔드 개발자|차별성 있는 스펙을 만들고 싶은...</td>\n      <td>inflearn</td>\n      <td></td>\n    </tr>\n    <tr>\n      <th>...</th>\n      <td>...</td>\n      <td>...</td>\n      <td>...</td>\n      <td>...</td>\n      <td>...</td>\n      <td>...</td>\n      <td>...</td>\n      <td>...</td>\n      <td>...</td>\n      <td>...</td>\n      <td>...</td>\n    </tr>\n    <tr>\n      <th>4028</th>\n      <td>4029</td>\n      <td>제1회 구름코드챌린지(GCC) 기출 문제</td>\n      <td>./data/images/course_489.png</td>\n      <td>구름</td>\n      <td>0</td>\n      <td>2.3</td>\n      <td>https://edu.goorm.io/lecture/790/제1회-구름코드챌린지-g...</td>\n      <td>- 구름 코드 챌린지 문제를 다시 풀어보고 싶은 분- 코딩 대회 문제를 살펴보고 싶은 분</td>\n      <td></td>\n      <td>goorm</td>\n      <td>NaN</td>\n    </tr>\n    <tr>\n      <th>4029</th>\n      <td>4030</td>\n      <td>[바로실습] 생활코딩 - 파이썬(Python)</td>\n      <td>./data/images/course_490.png</td>\n      <td>생활코딩</td>\n      <td>0</td>\n      <td>4.9</td>\n      <td>https://edu.goorm.io/lecture/44/바로실습-생활코딩-파이썬-...</td>\n      <td>프로그래밍 - 프로그래밍 기초|파이썬</td>\n      <td>파이썬을 처음 시작하는 초보자/입문자|파이썬 프로그래밍이 동작하는 일반적인 원리를 ...</td>\n      <td>goorm</td>\n      <td>NaN</td>\n    </tr>\n    <tr>\n      <th>4030</th>\n      <td>4031</td>\n      <td>한 눈에 끝내는 아두이노 기초</td>\n      <td>./data/images/course_491.png</td>\n      <td>구름</td>\n      <td>0</td>\n      <td>4.5</td>\n      <td>https://edu.goorm.io/lecture/203/한-눈에-끝내는-아두이노-기초</td>\n      <td>프로그래밍 - IoT|아두이노</td>\n      <td>피지컬 컴퓨팅을 한 번도 해보지 않은 입문자|아두이노를 통해 피지컬 컴퓨팅에 입문하...</td>\n      <td>goorm</td>\n      <td>NaN</td>\n    </tr>\n    <tr>\n      <th>4031</th>\n      <td>4032</td>\n      <td>10주 완성 알고리즘 코딩테스트 [기초편]</td>\n      <td>./data/images/course_492.png</td>\n      <td>코딩몬스터</td>\n      <td>90000</td>\n      <td>4.7</td>\n      <td>https://edu.goorm.io/lecture/554/10주-완성-알고리즘-코...</td>\n      <td>프로그래밍 - 알고리즘|수학|알고리즘|자바|자바스크립트|파이썬|C|C++</td>\n      <td>알고리즘 코딩테스트를 준비하시는 분|문법은 공부했지만 구현과 로직 설계가 어려운 분...</td>\n      <td>goorm</td>\n      <td>NaN</td>\n    </tr>\n    <tr>\n      <th>4032</th>\n      <td>4033</td>\n      <td>한 눈에 끝내는 C언어 기초</td>\n      <td>./data/images/course_493.png</td>\n      <td>구름</td>\n      <td>0</td>\n      <td>4.9</td>\n      <td>https://edu.goorm.io/lecture/201/한-눈에-끝내는-c언어-기초</td>\n      <td>프로그래밍 - 프로그래밍 기초|C</td>\n      <td>C언어를 통해 프로그래밍에 입문하고 싶은 분|C언어를 경험해본 적 있지만, 기본기를...</td>\n      <td>goorm</td>\n      <td>NaN</td>\n    </tr>\n  </tbody>\n</table>\n<p>4033 rows × 11 columns</p>\n</div>"
     },
     "execution_count": 11,
     "metadata": {},
     "output_type": "execute_result"
    }
   ],
   "source": [
    "ndf"
   ],
   "metadata": {
    "collapsed": false,
    "ExecuteTime": {
     "end_time": "2024-08-30T18:29:07.870541Z",
     "start_time": "2024-08-30T18:29:07.866215Z"
    }
   },
   "id": "e6e59d9362365c64",
   "execution_count": 11
  },
  {
   "cell_type": "code",
   "outputs": [
    {
     "data": {
      "text/plain": "id                                                             4\ntitle                         PM,게임기획서 시스템기획 데이터테이블 PO 13주제 122개\nimage_url      https://cdn.inflearn.com/public/courses/334696...\ninstructor                                                 써니라이더\nprice                                                      76230\nrating                                                       0.0\nlecture_url    https://www.inflearn.com/course/%EA%B2%8C%EC%9...\ngoals                                      게임기획|서비스기획|pm|po|사업pm\ntarget                                   서비스기획자|게임기획자|사업pm|pm|po\nplatform                                                inflearn\npre_course                                                      \nName: 3, dtype: object"
     },
     "execution_count": 12,
     "metadata": {},
     "output_type": "execute_result"
    }
   ],
   "source": [
    "ndf.iloc[3]"
   ],
   "metadata": {
    "collapsed": false,
    "ExecuteTime": {
     "end_time": "2024-08-30T18:29:19.092244Z",
     "start_time": "2024-08-30T18:29:19.088351Z"
    }
   },
   "id": "1096f19885a17cad",
   "execution_count": 12
  },
  {
   "cell_type": "code",
   "outputs": [
    {
     "data": {
      "text/plain": "str"
     },
     "execution_count": 13,
     "metadata": {},
     "output_type": "execute_result"
    }
   ],
   "source": [
    "type(ndf.loc[4, 'pre_course'])"
   ],
   "metadata": {
    "collapsed": false,
    "ExecuteTime": {
     "end_time": "2024-08-30T18:29:56.937229Z",
     "start_time": "2024-08-30T18:29:56.935143Z"
    }
   },
   "id": "af473fb4909ec853",
   "execution_count": 13
  },
  {
   "cell_type": "code",
   "outputs": [],
   "source": [
    "ndf = ndf.fillna('')"
   ],
   "metadata": {
    "collapsed": false,
    "ExecuteTime": {
     "end_time": "2024-08-30T18:30:57.798549Z",
     "start_time": "2024-08-30T18:30:57.795455Z"
    }
   },
   "id": "cf901fa80b53850d",
   "execution_count": 17
  },
  {
   "cell_type": "code",
   "outputs": [
    {
     "data": {
      "text/plain": "id             0\ntitle          0\nimage_url      0\ninstructor     0\nprice          0\nrating         0\nlecture_url    0\ngoals          0\ntarget         0\nplatform       0\npre_course     0\ndtype: int64"
     },
     "execution_count": 18,
     "metadata": {},
     "output_type": "execute_result"
    }
   ],
   "source": [
    "ndf.isna().sum()"
   ],
   "metadata": {
    "collapsed": false,
    "ExecuteTime": {
     "end_time": "2024-08-30T18:30:58.474626Z",
     "start_time": "2024-08-30T18:30:58.470190Z"
    }
   },
   "id": "5845078350277258",
   "execution_count": 18
  },
  {
   "cell_type": "code",
   "outputs": [],
   "source": [
    "ndf.to_csv('./data/integrated.csv', index=False, encoding='utf-8')"
   ],
   "metadata": {
    "collapsed": false,
    "ExecuteTime": {
     "end_time": "2024-08-30T18:31:24.936850Z",
     "start_time": "2024-08-30T18:31:24.893422Z"
    }
   },
   "id": "7652cd9d7eb7da0e",
   "execution_count": 19
  },
  {
   "cell_type": "code",
   "outputs": [],
   "source": [],
   "metadata": {
    "collapsed": false
   },
   "id": "67c73a24ca9e19c6"
  }
 ],
 "metadata": {
  "kernelspec": {
   "display_name": "Python 3",
   "language": "python",
   "name": "python3"
  },
  "language_info": {
   "codemirror_mode": {
    "name": "ipython",
    "version": 2
   },
   "file_extension": ".py",
   "mimetype": "text/x-python",
   "name": "python",
   "nbconvert_exporter": "python",
   "pygments_lexer": "ipython2",
   "version": "2.7.6"
  }
 },
 "nbformat": 4,
 "nbformat_minor": 5
}
